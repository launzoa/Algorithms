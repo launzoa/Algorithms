{
 "cells": [
  {
   "cell_type": "code",
   "execution_count": 7,
   "id": "1b5e6936",
   "metadata": {},
   "outputs": [
    {
     "name": "stdout",
     "output_type": "stream",
     "text": [
      "Resolvendo problema das 4 rainhas:\n",
      "\n",
      "SOLUÇÃO ENCONTRADA:\n",
      "Passo 1:\n",
      "0 Q 0 0\n",
      "0 0 0 Q\n",
      "Q 0 0 0\n",
      "0 0 Q 0\n",
      "\n",
      "SOLUÇÃO ENCONTRADA:\n",
      "Passo 2:\n",
      "0 0 Q 0\n",
      "Q 0 0 0\n",
      "0 0 0 Q\n",
      "0 Q 0 0\n",
      "\n"
     ]
    }
   ],
   "source": [
    "def solve_n_queens_visual(n=4):\n",
    "    col = [0] * n\n",
    "    diag1 = [0] * (2 * n - 1)               # Inicialização de vetores para coluna e diagonais\n",
    "    diag2 = [0] * (2 * n - 1)\n",
    "    solution = []                           # Vetor para a impressão das posições das rainhas (colunas). Cada índice representa a linha respectiva\n",
    "    step = 1\n",
    "\n",
    "\n",
    "    def print_step():\n",
    "        nonlocal step                       # Permite modificar  a variável da função externa\n",
    "        board = [['0' for _ in range(n)] for _ in range(n)]      # Inicializa o tabuleiro n x n \n",
    "        \n",
    "        # Preenche o tabuleiro com as rainhas\n",
    "        for row, col_pos in enumerate(solution):        \n",
    "            board[row][col_pos] = str('Q')\n",
    "        \n",
    "      \n",
    "        # Imprime o tabuleiro\n",
    "        print(f\"Passo {step}:\")\n",
    "        for row in board:\n",
    "            print(' '.join(row))\n",
    "\n",
    "        step += 1\n",
    "\n",
    "\n",
    "    def search(y):\n",
    "        if y == n:          # Se y == 4, significa que já percorremos as 4 linhas (0..3) então o n iria para uma linha vazia, no caso, nossa solução!\n",
    "            print(\"SOLUÇÃO ENCONTRADA:\")\n",
    "            print_step()\n",
    "            print(\"\")\n",
    "            return\n",
    "        \n",
    "        else:\n",
    "            for i in range(n):      # Percorre as n linhas\n",
    "                \n",
    "                if(col[i] or diag1[i-y + n-1] or diag2[i+y]):       # Verifica se aquela coluna é válida, levando as diagonais em conta também\n",
    "                    continue\n",
    "                \n",
    "                col[i] = diag1[i-y + n-1] = diag2[i+y] = 1      # Caso a posição seja válida, é armazenado as possíveis posições de ataque da rainha\n",
    "                solution.append(i)\n",
    "                \n",
    "                search(y+1)         # Chamada recursiva que vai para a rainha da próxima linha\n",
    "                \n",
    "                col[i] = diag1[i-y + n-1] = diag2[i+y] = 0      # Backtracking, remove a posição atual para explorar as demais colunas\n",
    "                solution.pop()\n",
    "                \n",
    "        \n",
    "\n",
    "    print(f\"Resolvendo problema das {n} rainhas:\\n\")\n",
    "    search(0)\n",
    "\n",
    "# Executa para n=4\n",
    "solve_n_queens_visual(4)"
   ]
  }
 ],
 "metadata": {
  "kernelspec": {
   "display_name": "Python 3",
   "language": "python",
   "name": "python3"
  },
  "language_info": {
   "codemirror_mode": {
    "name": "ipython",
    "version": 3
   },
   "file_extension": ".py",
   "mimetype": "text/x-python",
   "name": "python",
   "nbconvert_exporter": "python",
   "pygments_lexer": "ipython3",
   "version": "3.13.2"
  }
 },
 "nbformat": 4,
 "nbformat_minor": 5
}
