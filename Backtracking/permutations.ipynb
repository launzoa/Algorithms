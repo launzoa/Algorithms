{
 "cells": [
  {
   "cell_type": "code",
   "execution_count": null,
   "id": "de78b6cd",
   "metadata": {},
   "outputs": [],
   "source": [
    "# Para criar permutações será usada uma abordagem de vetor com números \"escolhidos\", onde o objetivo é marcar os elementos escolhidos\n",
    "# para uma determinada permutação e depois desmarcar o número e remarcar começando pela próxima ordem. É um algoritmo similar ao de subsets\n",
    "# porém, a ideia é somente pegar os conjuntos 'completos'\n",
    "\n",
    "def search():\n",
    "    \n",
    "    if(len(permutation) == n):\n",
    "        print(permutation)  \n",
    "        \n",
    "        return\n",
    "        \n",
    "    for i in range(1,n+1):\n",
    "        if(chosen[i]): continue\n",
    "        \n",
    "        chosen[i] = 1   # Marca que o número foi usado\n",
    "        permutation.append(i)   # Adiciona na permutação atual\n",
    "        search()    # Chama a função para criar \"ramos\", imagine aqui uma figura de uma árvore de chamadas recursivas\n",
    "        \n",
    "        chosen[i] = 0   # Desmarcando o  número usado\n",
    "        permutation.pop()   # Remove da permutação atual\n",
    "    \n",
    "    return \n",
    "\n",
    "\n",
    "permutation = []\n",
    "n = 3\n",
    "chosen = [0] * (n+1)\n",
    "search()"
   ]
  }
 ],
 "metadata": {
  "kernelspec": {
   "display_name": "Python 3",
   "language": "python",
   "name": "python3"
  },
  "language_info": {
   "name": "python",
   "version": "3.13.2"
  }
 },
 "nbformat": 4,
 "nbformat_minor": 5
}
