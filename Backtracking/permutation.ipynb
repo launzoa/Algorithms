{
 "cells": [
  {
   "cell_type": "code",
   "execution_count": 32,
   "id": "f130bb1a",
   "metadata": {},
   "outputs": [
    {
     "name": "stdout",
     "output_type": "stream",
     "text": [
      "\n",
      "[1]\n",
      "[1, 2]\n",
      "[1, 2, 3]\n",
      "[1, 3]\n",
      "[1, 3, 2]\n",
      "\n",
      "[2]\n",
      "[2, 1]\n",
      "[2, 1, 3]\n",
      "[2, 3]\n",
      "[2, 3, 1]\n",
      "\n",
      "[3]\n",
      "[3, 1]\n",
      "[3, 1, 2]\n",
      "[3, 2]\n",
      "[3, 2, 1]\n"
     ]
    }
   ],
   "source": [
    "def permutation():\n",
    "    \n",
    "    arr = []\n",
    "    n = 3\n",
    "    subsets = []\n",
    "    \n",
    "    def search():\n",
    "        \n",
    "        for i in range(1, n+1):\n",
    "            \n",
    "            if(i in subsets): continue\n",
    "            \n",
    "            subsets.append(i)    \n",
    "            arr.append(subsets[:])\n",
    "            search()\n",
    "            subsets.pop()\n",
    "            \n",
    "    search()\n",
    "    for i in range(0, len(arr)):\n",
    "        if(i % (len(arr) / n) == 0): print()\n",
    "        print(arr[i])\n",
    "    \n",
    "permutation()"
   ]
  }
 ],
 "metadata": {
  "kernelspec": {
   "display_name": "Python 3",
   "language": "python",
   "name": "python3"
  },
  "language_info": {
   "codemirror_mode": {
    "name": "ipython",
    "version": 3
   },
   "file_extension": ".py",
   "mimetype": "text/x-python",
   "name": "python",
   "nbconvert_exporter": "python",
   "pygments_lexer": "ipython3",
   "version": "3.13.2"
  }
 },
 "nbformat": 4,
 "nbformat_minor": 5
}
